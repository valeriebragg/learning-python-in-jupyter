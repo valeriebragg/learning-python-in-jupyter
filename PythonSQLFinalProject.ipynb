{
 "cells": [
  {
   "cell_type": "markdown",
   "id": "0262feab-1486-4239-abb1-a33dcb8edf3e",
   "metadata": {},
   "source": [
    "# Final Python & SQL Project\n",
    "\n",
    "### Using Real-Life Dataset"
   ]
  },
  {
   "cell_type": "code",
   "execution_count": 9,
   "id": "7bd7fbd4-3bff-4ef9-b470-9a209c4b0a14",
   "metadata": {},
   "outputs": [
    {
     "name": "stdout",
     "output_type": "stream",
     "text": [
      "The sql extension is already loaded. To reload it, use:\n",
      "  %reload_ext sql\n"
     ]
    }
   ],
   "source": [
    "#load sql extension for python\n",
    "%load_ext sql"
   ]
  },
  {
   "cell_type": "code",
   "execution_count": 4,
   "id": "2f4b4e18-8fea-4142-af33-cc6eb70754c4",
   "metadata": {},
   "outputs": [
    {
     "data": {
      "text/plain": [
       "'Connected: 66323757@bludb'"
      ]
     },
     "execution_count": 4,
     "metadata": {},
     "output_type": "execute_result"
    }
   ],
   "source": [
    "#connect to database\n",
    "%sql ibm_db_sa://66323757:wDqbLg311YKItGdP@db9d5b7d-02c7-4dbd-a442-f721931ce3d3.bs2ipa7w0uv9tsomi9ig.databases.appdomain.cloud:31761/bludb?security=SSL"
   ]
  },
  {
   "cell_type": "code",
   "execution_count": 10,
   "id": "f221ac6b-80fe-4abb-8d1d-8ad989408213",
   "metadata": {},
   "outputs": [
    {
     "name": "stdout",
     "output_type": "stream",
     "text": [
      " * ibm_db_sa://66323757:***@db9d5b7d-02c7-4dbd-a442-f721931ce3d3.bs2ipa7w0uv9tsomi9ig.databases.appdomain.cloud:31761/bludb\n",
      "Done.\n"
     ]
    },
    {
     "data": {
      "text/html": [
       "<table>\n",
       "    <thead>\n",
       "        <tr>\n",
       "            <th>tabschema</th>\n",
       "            <th>tabname</th>\n",
       "            <th>create_time</th>\n",
       "        </tr>\n",
       "    </thead>\n",
       "    <tbody>\n",
       "        <tr>\n",
       "            <td>66323757</td>\n",
       "            <td>CENSUS_DATA</td>\n",
       "            <td>2022-02-28 15:33:53.752247</td>\n",
       "        </tr>\n",
       "        <tr>\n",
       "            <td>66323757</td>\n",
       "            <td>CHICAGO_CRIME_DATA</td>\n",
       "            <td>2022-02-28 15:35:29.359249</td>\n",
       "        </tr>\n",
       "        <tr>\n",
       "            <td>66323757</td>\n",
       "            <td>CHICAGO_PUBLIC_SCHOOLS</td>\n",
       "            <td>2022-02-28 15:37:00.639019</td>\n",
       "        </tr>\n",
       "        <tr>\n",
       "            <td>66323757</td>\n",
       "            <td>CHICAGO_SOCIOECONOMIC_DATA</td>\n",
       "            <td>2022-02-25 13:31:04.419918</td>\n",
       "        </tr>\n",
       "        <tr>\n",
       "            <td>66323757</td>\n",
       "            <td>INSTRUCTOR</td>\n",
       "            <td>2022-02-25 12:31:08.986426</td>\n",
       "        </tr>\n",
       "        <tr>\n",
       "            <td>66323757</td>\n",
       "            <td>INTERNATIONAL_STUDENT_TEST_SCORES</td>\n",
       "            <td>2022-02-25 12:49:04.572613</td>\n",
       "        </tr>\n",
       "        <tr>\n",
       "            <td>66323757</td>\n",
       "            <td>SCHOOLS</td>\n",
       "            <td>2022-02-28 14:57:15.297985</td>\n",
       "        </tr>\n",
       "    </tbody>\n",
       "</table>"
      ],
      "text/plain": [
       "[('66323757', 'CENSUS_DATA', datetime.datetime(2022, 2, 28, 15, 33, 53, 752247)),\n",
       " ('66323757', 'CHICAGO_CRIME_DATA', datetime.datetime(2022, 2, 28, 15, 35, 29, 359249)),\n",
       " ('66323757', 'CHICAGO_PUBLIC_SCHOOLS', datetime.datetime(2022, 2, 28, 15, 37, 0, 639019)),\n",
       " ('66323757', 'CHICAGO_SOCIOECONOMIC_DATA', datetime.datetime(2022, 2, 25, 13, 31, 4, 419918)),\n",
       " ('66323757', 'INSTRUCTOR', datetime.datetime(2022, 2, 25, 12, 31, 8, 986426)),\n",
       " ('66323757', 'INTERNATIONAL_STUDENT_TEST_SCORES', datetime.datetime(2022, 2, 25, 12, 49, 4, 572613)),\n",
       " ('66323757', 'SCHOOLS', datetime.datetime(2022, 2, 28, 14, 57, 15, 297985))]"
      ]
     },
     "execution_count": 10,
     "metadata": {},
     "output_type": "execute_result"
    }
   ],
   "source": [
    "#confirm database is working\n",
    "%sql select TABSCHEMA, TABNAME, CREATE_TIME from SYSCAT.TABLES where TABSCHEMA='66323757'"
   ]
  },
  {
   "cell_type": "markdown",
   "id": "89970683-4223-41d7-a304-6960b47d8ce6",
   "metadata": {
    "tags": []
   },
   "source": [
    "Problem 1: Find the total number of crimes recorded in the CRIME table.\n",
    "\n",
    "Problem 2: List community areas with per capita income less than 11000.\n",
    "\n",
    "Problem 3: List all case numbers for crimes involving minors?\n",
    "\n",
    "Problem 4: List all kidnapping crimes involving a child?(children are not considered minors for the purposes of crime analysis)\n",
    "\n",
    "Problem 5: What kind of crimes were recorded at schools?\n",
    "\n",
    "Problem 6: List the average safety score for all types of schools.\n",
    "\n",
    "Problem 7: List 5 community areas with highest % of households below poverty line.\n",
    "\n",
    "Problem 8: Which community area(number) is most crime prone?\n",
    "\n",
    "Problem 9: Use a sub-query to find the name of the community area with highest hardship index.\n",
    "\n",
    "Problem 10: Use a sub-query to determine the Community Area Name with most number of crimes?"
   ]
  },
  {
   "cell_type": "markdown",
   "id": "a5c3371d-f144-483c-aa77-5c603e6c2479",
   "metadata": {},
   "source": [
    "## Problems\n",
    "\n",
    "### Problem 1\n",
    "\n",
    "##### Find the total number of crimes recorded in the CRIME table.\n"
   ]
  },
  {
   "cell_type": "code",
   "execution_count": 7,
   "id": "233d1d62-b54e-40f2-846d-76741334caaa",
   "metadata": {},
   "outputs": [
    {
     "name": "stdout",
     "output_type": "stream",
     "text": [
      " * ibm_db_sa://66323757:***@db9d5b7d-02c7-4dbd-a442-f721931ce3d3.bs2ipa7w0uv9tsomi9ig.databases.appdomain.cloud:31761/bludb\n",
      "Done.\n"
     ]
    },
    {
     "data": {
      "text/html": [
       "<table>\n",
       "    <thead>\n",
       "        <tr>\n",
       "            <th>total_crimes</th>\n",
       "        </tr>\n",
       "    </thead>\n",
       "    <tbody>\n",
       "        <tr>\n",
       "            <td>533</td>\n",
       "        </tr>\n",
       "    </tbody>\n",
       "</table>"
      ],
      "text/plain": [
       "[(533,)]"
      ]
     },
     "execution_count": 7,
     "metadata": {},
     "output_type": "execute_result"
    }
   ],
   "source": [
    "%sql select count(ID) AS TOTAL_CRIMES from CHICAGO_CRIME_DATA"
   ]
  },
  {
   "cell_type": "markdown",
   "id": "394d69a3-8961-4465-b73e-678ca73f7e27",
   "metadata": {},
   "source": [
    "### Problem 2\n",
    "\n",
    "##### List community areas with per capita income less than 11000."
   ]
  },
  {
   "cell_type": "code",
   "execution_count": 11,
   "id": "1abf4306-7f8a-4557-a0f9-1dbee3eccf3a",
   "metadata": {},
   "outputs": [
    {
     "name": "stdout",
     "output_type": "stream",
     "text": [
      " * ibm_db_sa://66323757:***@db9d5b7d-02c7-4dbd-a442-f721931ce3d3.bs2ipa7w0uv9tsomi9ig.databases.appdomain.cloud:31761/bludb\n",
      "Done.\n"
     ]
    },
    {
     "data": {
      "text/html": [
       "<table>\n",
       "    <thead>\n",
       "        <tr>\n",
       "            <th>community_area_name</th>\n",
       "            <th>per_capita_income</th>\n",
       "        </tr>\n",
       "    </thead>\n",
       "    <tbody>\n",
       "        <tr>\n",
       "            <td>West Garfield Park</td>\n",
       "            <td>10934</td>\n",
       "        </tr>\n",
       "        <tr>\n",
       "            <td>South Lawndale</td>\n",
       "            <td>10402</td>\n",
       "        </tr>\n",
       "        <tr>\n",
       "            <td>Fuller Park</td>\n",
       "            <td>10432</td>\n",
       "        </tr>\n",
       "        <tr>\n",
       "            <td>Riverdale</td>\n",
       "            <td>8201</td>\n",
       "        </tr>\n",
       "    </tbody>\n",
       "</table>"
      ],
      "text/plain": [
       "[('West Garfield Park', 10934),\n",
       " ('South Lawndale', 10402),\n",
       " ('Fuller Park', 10432),\n",
       " ('Riverdale', 8201)]"
      ]
     },
     "execution_count": 11,
     "metadata": {},
     "output_type": "execute_result"
    }
   ],
   "source": [
    "%sql select community_area_name, per_capita_income from CENSUS_DATA\\\n",
    "    where per_capita_income < 11000"
   ]
  },
  {
   "cell_type": "markdown",
   "id": "d5865826-3f39-4e25-ab59-bce0057fee3a",
   "metadata": {
    "tags": []
   },
   "source": [
    "### Problem 3\n",
    "\n",
    "##### List all case numbers for crimes involving minors?"
   ]
  },
  {
   "cell_type": "code",
   "execution_count": 12,
   "id": "e023459d-a781-4410-98da-66087044acf2",
   "metadata": {},
   "outputs": [
    {
     "name": "stdout",
     "output_type": "stream",
     "text": [
      " * ibm_db_sa://66323757:***@db9d5b7d-02c7-4dbd-a442-f721931ce3d3.bs2ipa7w0uv9tsomi9ig.databases.appdomain.cloud:31761/bludb\n",
      "Done.\n"
     ]
    },
    {
     "data": {
      "text/html": [
       "<table>\n",
       "    <thead>\n",
       "        <tr>\n",
       "            <th>case_number</th>\n",
       "        </tr>\n",
       "    </thead>\n",
       "    <tbody>\n",
       "        <tr>\n",
       "            <td>HL266884</td>\n",
       "        </tr>\n",
       "        <tr>\n",
       "            <td>HK238408</td>\n",
       "        </tr>\n",
       "    </tbody>\n",
       "</table>"
      ],
      "text/plain": [
       "[('HL266884',), ('HK238408',)]"
      ]
     },
     "execution_count": 12,
     "metadata": {},
     "output_type": "execute_result"
    }
   ],
   "source": [
    "%sql select case_number from CHICAGO_CRIME_DATA\\\n",
    "    where description like '%MINOR%'"
   ]
  },
  {
   "cell_type": "markdown",
   "id": "01e0f693-fe3e-4433-8a64-0c1958446316",
   "metadata": {},
   "source": [
    "### Problem 4\n",
    "\n",
    "##### List all kidnapping crimes involving a child?(children are not considered minors for the purposes of crime analysis)"
   ]
  },
  {
   "cell_type": "code",
   "execution_count": 14,
   "id": "f3584847-a832-41af-a66c-513053ff1ae1",
   "metadata": {},
   "outputs": [
    {
     "name": "stdout",
     "output_type": "stream",
     "text": [
      " * ibm_db_sa://66323757:***@db9d5b7d-02c7-4dbd-a442-f721931ce3d3.bs2ipa7w0uv9tsomi9ig.databases.appdomain.cloud:31761/bludb\n",
      "Done.\n"
     ]
    },
    {
     "data": {
      "text/html": [
       "<table>\n",
       "    <thead>\n",
       "        <tr>\n",
       "            <th>case_number</th>\n",
       "            <th>primary_type</th>\n",
       "            <th>description</th>\n",
       "        </tr>\n",
       "    </thead>\n",
       "    <tbody>\n",
       "        <tr>\n",
       "            <td>HN144152</td>\n",
       "            <td>KIDNAPPING</td>\n",
       "            <td>CHILD ABDUCTION/STRANGER</td>\n",
       "        </tr>\n",
       "    </tbody>\n",
       "</table>"
      ],
      "text/plain": [
       "[('HN144152', 'KIDNAPPING', 'CHILD ABDUCTION/STRANGER')]"
      ]
     },
     "execution_count": 14,
     "metadata": {},
     "output_type": "execute_result"
    }
   ],
   "source": [
    "%sql select case_number, primary_type, description from CHICAGO_CRIME_DATA\\\n",
    "    where primary_type = 'KIDNAPPING'"
   ]
  },
  {
   "cell_type": "markdown",
   "id": "3e20acbc-38cf-4180-9d12-d60779ca911d",
   "metadata": {},
   "source": [
    "### Problem 5\n",
    "\n",
    "##### What kind of crimes were recorded at schools?"
   ]
  },
  {
   "cell_type": "code",
   "execution_count": 17,
   "id": "11f3fd74-c59c-4b41-a491-f845e51c8240",
   "metadata": {},
   "outputs": [
    {
     "name": "stdout",
     "output_type": "stream",
     "text": [
      " * ibm_db_sa://66323757:***@db9d5b7d-02c7-4dbd-a442-f721931ce3d3.bs2ipa7w0uv9tsomi9ig.databases.appdomain.cloud:31761/bludb\n",
      "Done.\n"
     ]
    },
    {
     "data": {
      "text/html": [
       "<table>\n",
       "    <thead>\n",
       "        <tr>\n",
       "            <th>primary_type</th>\n",
       "        </tr>\n",
       "    </thead>\n",
       "    <tbody>\n",
       "        <tr>\n",
       "            <td>ASSAULT</td>\n",
       "        </tr>\n",
       "        <tr>\n",
       "            <td>BATTERY</td>\n",
       "        </tr>\n",
       "        <tr>\n",
       "            <td>CRIMINAL DAMAGE</td>\n",
       "        </tr>\n",
       "        <tr>\n",
       "            <td>CRIMINAL TRESPA</td>\n",
       "        </tr>\n",
       "        <tr>\n",
       "            <td>NARCOTICS</td>\n",
       "        </tr>\n",
       "        <tr>\n",
       "            <td>PUBLIC PEACE VI</td>\n",
       "        </tr>\n",
       "    </tbody>\n",
       "</table>"
      ],
      "text/plain": [
       "[('ASSAULT',),\n",
       " ('BATTERY',),\n",
       " ('CRIMINAL DAMAGE',),\n",
       " ('CRIMINAL TRESPA',),\n",
       " ('NARCOTICS',),\n",
       " ('PUBLIC PEACE VI',)]"
      ]
     },
     "execution_count": 17,
     "metadata": {},
     "output_type": "execute_result"
    }
   ],
   "source": [
    "%sql select DISTINCT(primary_type) from CHICAGO_CRIME_DATA\\\n",
    "    where location_description like '%SCHOOL%'"
   ]
  },
  {
   "cell_type": "markdown",
   "id": "8162bfbd-e168-4311-9d11-24865f2d7542",
   "metadata": {},
   "source": [
    "### Problem 6\n",
    "\n",
    "##### List the average safety score for all types of schools."
   ]
  },
  {
   "cell_type": "code",
   "execution_count": 19,
   "id": "9c9e016e-9010-48ac-b519-2f37840e279a",
   "metadata": {},
   "outputs": [
    {
     "name": "stdout",
     "output_type": "stream",
     "text": [
      " * ibm_db_sa://66323757:***@db9d5b7d-02c7-4dbd-a442-f721931ce3d3.bs2ipa7w0uv9tsomi9ig.databases.appdomain.cloud:31761/bludb\n",
      "Done.\n"
     ]
    },
    {
     "data": {
      "text/html": [
       "<table>\n",
       "    <thead>\n",
       "        <tr>\n",
       "            <th>Elementary, Middle, or High School</th>\n",
       "            <th>avg_safety_score</th>\n",
       "        </tr>\n",
       "    </thead>\n",
       "    <tbody>\n",
       "        <tr>\n",
       "            <td>ES</td>\n",
       "            <td>49</td>\n",
       "        </tr>\n",
       "        <tr>\n",
       "            <td>HS</td>\n",
       "            <td>49</td>\n",
       "        </tr>\n",
       "        <tr>\n",
       "            <td>MS</td>\n",
       "            <td>48</td>\n",
       "        </tr>\n",
       "    </tbody>\n",
       "</table>"
      ],
      "text/plain": [
       "[('ES', 49), ('HS', 49), ('MS', 48)]"
      ]
     },
     "execution_count": 19,
     "metadata": {},
     "output_type": "execute_result"
    }
   ],
   "source": [
    "%sql select \"Elementary, Middle, or High School\", AVG(safety_score) as AVG_SAFETY_SCORE from CHICAGO_PUBLIC_SCHOOLS\\\n",
    "    GROUP BY \"Elementary, Middle, or High School\""
   ]
  },
  {
   "cell_type": "markdown",
   "id": "2f54122a-6f30-4e71-ba62-4b3ba8cdbab9",
   "metadata": {},
   "source": [
    "### Problem 7\n",
    "\n",
    "##### List 5 community areas with highest % of households below poverty line."
   ]
  },
  {
   "cell_type": "code",
   "execution_count": 21,
   "id": "c14e2bef-9117-48a3-8944-5cfbe686e09a",
   "metadata": {},
   "outputs": [
    {
     "name": "stdout",
     "output_type": "stream",
     "text": [
      " * ibm_db_sa://66323757:***@db9d5b7d-02c7-4dbd-a442-f721931ce3d3.bs2ipa7w0uv9tsomi9ig.databases.appdomain.cloud:31761/bludb\n",
      "Done.\n"
     ]
    },
    {
     "data": {
      "text/html": [
       "<table>\n",
       "    <thead>\n",
       "        <tr>\n",
       "            <th>community_area_name</th>\n",
       "            <th>percent_households_below_poverty</th>\n",
       "        </tr>\n",
       "    </thead>\n",
       "    <tbody>\n",
       "        <tr>\n",
       "            <td>Riverdale</td>\n",
       "            <td>56.5</td>\n",
       "        </tr>\n",
       "        <tr>\n",
       "            <td>Fuller Park</td>\n",
       "            <td>51.2</td>\n",
       "        </tr>\n",
       "        <tr>\n",
       "            <td>Englewood</td>\n",
       "            <td>46.6</td>\n",
       "        </tr>\n",
       "        <tr>\n",
       "            <td>North Lawndale</td>\n",
       "            <td>43.1</td>\n",
       "        </tr>\n",
       "        <tr>\n",
       "            <td>East Garfield Park</td>\n",
       "            <td>42.4</td>\n",
       "        </tr>\n",
       "    </tbody>\n",
       "</table>"
      ],
      "text/plain": [
       "[('Riverdale', Decimal('56.5')),\n",
       " ('Fuller Park', Decimal('51.2')),\n",
       " ('Englewood', Decimal('46.6')),\n",
       " ('North Lawndale', Decimal('43.1')),\n",
       " ('East Garfield Park', Decimal('42.4'))]"
      ]
     },
     "execution_count": 21,
     "metadata": {},
     "output_type": "execute_result"
    }
   ],
   "source": [
    "%sql select community_area_name, percent_households_below_poverty from CENSUS_DATA\\\n",
    "    order by percent_households_below_poverty desc limit 5"
   ]
  },
  {
   "cell_type": "markdown",
   "id": "b3cbc202-421d-4459-a5c2-6b891036c45a",
   "metadata": {},
   "source": [
    "### Problem 8\n",
    "\n",
    "##### Which community area(number) is most crime prone?"
   ]
  },
  {
   "cell_type": "code",
   "execution_count": 22,
   "id": "5df9b0d2-af0d-469c-ac6d-6481a04b3658",
   "metadata": {},
   "outputs": [
    {
     "name": "stdout",
     "output_type": "stream",
     "text": [
      " * ibm_db_sa://66323757:***@db9d5b7d-02c7-4dbd-a442-f721931ce3d3.bs2ipa7w0uv9tsomi9ig.databases.appdomain.cloud:31761/bludb\n",
      "Done.\n"
     ]
    },
    {
     "data": {
      "text/html": [
       "<table>\n",
       "    <thead>\n",
       "        <tr>\n",
       "            <th>community_area_number</th>\n",
       "            <th>frequency_of_crimes</th>\n",
       "        </tr>\n",
       "    </thead>\n",
       "    <tbody>\n",
       "        <tr>\n",
       "            <td>25</td>\n",
       "            <td>43</td>\n",
       "        </tr>\n",
       "    </tbody>\n",
       "</table>"
      ],
      "text/plain": [
       "[(25, 43)]"
      ]
     },
     "execution_count": 22,
     "metadata": {},
     "output_type": "execute_result"
    }
   ],
   "source": [
    "%sql select CCD.community_area_number, count(CCD.community_area_number) as Frequency_of_crimes from CHICAGO_CRIME_DATA AS CCD\\\n",
    "    GROUP BY CCD.community_area_number\\\n",
    "    order by count(CCD.community_area_number) desc limit 1"
   ]
  },
  {
   "cell_type": "markdown",
   "id": "392c1686-bef4-43a9-b663-8433c8a4b71c",
   "metadata": {},
   "source": [
    "### Problem 9\n",
    "\n",
    "##### Use a sub-query to find the name of the community area with highest hardship index."
   ]
  },
  {
   "cell_type": "code",
   "execution_count": 23,
   "id": "99784a7c-3add-4d4a-a0dd-2d33fa8b0dce",
   "metadata": {},
   "outputs": [
    {
     "name": "stdout",
     "output_type": "stream",
     "text": [
      " * ibm_db_sa://66323757:***@db9d5b7d-02c7-4dbd-a442-f721931ce3d3.bs2ipa7w0uv9tsomi9ig.databases.appdomain.cloud:31761/bludb\n",
      "Done.\n"
     ]
    },
    {
     "data": {
      "text/html": [
       "<table>\n",
       "    <thead>\n",
       "        <tr>\n",
       "            <th>community_area_name</th>\n",
       "            <th>hardship_index</th>\n",
       "        </tr>\n",
       "    </thead>\n",
       "    <tbody>\n",
       "        <tr>\n",
       "            <td>Riverdale</td>\n",
       "            <td>98</td>\n",
       "        </tr>\n",
       "    </tbody>\n",
       "</table>"
      ],
      "text/plain": [
       "[('Riverdale', 98)]"
      ]
     },
     "execution_count": 23,
     "metadata": {},
     "output_type": "execute_result"
    }
   ],
   "source": [
    "%sql select community_area_name, hardship_index from CENSUS_DATA\\\n",
    "    where hardship_index=(select max(hardship_index) from CENSUS_DATA)"
   ]
  },
  {
   "cell_type": "markdown",
   "id": "2ebf6802-9215-4fb2-bb5f-2530296649a6",
   "metadata": {},
   "source": [
    "### Problem 10\n",
    "\n",
    "##### Use a sub-query to determine the Community Area Name with most number of crimes?"
   ]
  },
  {
   "cell_type": "code",
   "execution_count": 25,
   "id": "b2985d05-064d-4fe1-afd4-96ac46d55081",
   "metadata": {},
   "outputs": [
    {
     "name": "stdout",
     "output_type": "stream",
     "text": [
      " * ibm_db_sa://66323757:***@db9d5b7d-02c7-4dbd-a442-f721931ce3d3.bs2ipa7w0uv9tsomi9ig.databases.appdomain.cloud:31761/bludb\n",
      "Done.\n"
     ]
    },
    {
     "data": {
      "text/html": [
       "<table>\n",
       "    <thead>\n",
       "        <tr>\n",
       "            <th>community_area_name</th>\n",
       "        </tr>\n",
       "    </thead>\n",
       "    <tbody>\n",
       "        <tr>\n",
       "            <td>Austin</td>\n",
       "        </tr>\n",
       "    </tbody>\n",
       "</table>"
      ],
      "text/plain": [
       "[('Austin',)]"
      ]
     },
     "execution_count": 25,
     "metadata": {},
     "output_type": "execute_result"
    }
   ],
   "source": [
    "%sql select community_area_name from CENSUS_DATA\\\n",
    "    where community_area_number=\\\n",
    "    (select CCD.community_area_number from CHICAGO_CRIME_DATA AS CCD\\\n",
    "    GROUP BY CCD.community_area_number\\\n",
    "    order by count(CCD.community_area_number) desc limit 1)"
   ]
  },
  {
   "cell_type": "code",
   "execution_count": null,
   "id": "c40d01ae-8e8d-4ff2-afcf-295a724cff47",
   "metadata": {},
   "outputs": [],
   "source": []
  }
 ],
 "metadata": {
  "kernelspec": {
   "display_name": "Python",
   "language": "python",
   "name": "conda-env-python-py"
  },
  "language_info": {
   "codemirror_mode": {
    "name": "ipython",
    "version": 3
   },
   "file_extension": ".py",
   "mimetype": "text/x-python",
   "name": "python",
   "nbconvert_exporter": "python",
   "pygments_lexer": "ipython3",
   "version": "3.7.12"
  }
 },
 "nbformat": 4,
 "nbformat_minor": 5
}
